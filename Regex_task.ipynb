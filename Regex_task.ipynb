{
 "cells": [
  {
   "cell_type": "markdown",
   "metadata": {},
   "source": [
    "# User Registration System needs to ensure all validations are in place during the User Entry# \n",
    "\n",
    "UC 1 : As a User Need to Enter a Valid First Name (first name starts with Cap and has minimum 3 characters)¶"
   ]
  },
  {
   "cell_type": "code",
   "execution_count": 8,
   "metadata": {},
   "outputs": [
    {
     "name": "stdout",
     "output_type": "stream",
     "text": [
      "Enter the first namePhanindra\n",
      "Phanindra\n"
     ]
    }
   ],
   "source": [
    "import re\n",
    "def fname(first_name):\n",
    "    regex = r'^([A-Z]{1})([a-z]{2,})'\n",
    "    if (re.match(regex,first_name)):\n",
    "        print(first_name)\n",
    "    else:\n",
    "        print(first_name,\"Enter first letter as uppercase\")\n",
    "first_name = str(input(\"Enter the first name\"))\n",
    "fname(first_name)"
   ]
  },
  {
   "cell_type": "markdown",
   "metadata": {},
   "source": [
    "# UC 2: As a User need to enter a valid Last Name Last name starts with Cap and has minimum 3 characters"
   ]
  },
  {
   "cell_type": "code",
   "execution_count": 11,
   "metadata": {},
   "outputs": [
    {
     "name": "stdout",
     "output_type": "stream",
     "text": [
      "Enter the last nameJallavaram\n",
      "Jallavaram\n"
     ]
    }
   ],
   "source": [
    "Last_name = str(input(\"Enter the last name\"))\n",
    "regex = r'^([A-Z]{1})([a-z]{2,})'\n",
    "if (re.match(regex,Last_name)):\n",
    "    print(Last_name)\n",
    "else:\n",
    "    print(\"Enter first letter as uppercase\")\n"
   ]
  },
  {
   "cell_type": "markdown",
   "metadata": {},
   "source": [
    "# UC 3: As a User need to enter a valid email E.g. abc.xyz@bl.co.in Email has 3 mandatory parts (abc, bl & co) and 2 optional (xyz & in) with precise @ and . positions"
   ]
  },
  {
   "cell_type": "code",
   "execution_count": 12,
   "metadata": {},
   "outputs": [
    {
     "name": "stdout",
     "output_type": "stream",
     "text": [
      "Enter a emailphanindrasrys@gmail.com\n",
      "Valid email\n"
     ]
    }
   ],
   "source": [
    "regex1 = '^[a-z0-9]+[\\._]?[a-z0-9]+[@]\\w+[.]\\w{2,3}$'\n",
    "def check(email):  \n",
    "    try:\n",
    "        re.search(regex1, email)\n",
    "        print(\"Valid email\")\n",
    "    except:\n",
    "        print(\"enter a valid email\")\n",
    "# Driver Code  \n",
    "if __name__ == '__main__' :\n",
    "    email=str(input(\"Enter a email\"))\n",
    "    check(email)     \n",
    "        "
   ]
  },
  {
   "cell_type": "markdown",
   "metadata": {},
   "source": [
    "# UC 4: As a User need to follow pre-defined Mobile Format E.g. 91 9919819801 Country code follow by space and 10 digit number¶"
   ]
  },
  {
   "cell_type": "code",
   "execution_count": 19,
   "metadata": {},
   "outputs": [
    {
     "name": "stdout",
     "output_type": "stream",
     "text": [
      "Enter the mobile number9738479488\n",
      "9738479488 Is valid number\n"
     ]
    }
   ],
   "source": [
    "def mobilenum(num):\n",
    "    pattern = \"(0/91)?[7-9][0-9]{9}\"\n",
    "    try:\n",
    "        re.match(pattern,num)\n",
    "        print(num,\"Is valid number\")\n",
    "    except:\n",
    "        print(\"Enter a valid Number\")\n",
    "#Driver code\n",
    "if __name__=='__main__':\n",
    "    num = input(\"Enter the mobile number\")\n",
    "    mobilenum(num)\n"
   ]
  },
  {
   "cell_type": "markdown",
   "metadata": {},
   "source": [
    "# UC 5: As a User need to follow pre-defined Password rules. Rule1 – minimum 8 Characters NOTE – All rules must be passed¶"
   ]
  },
  {
   "cell_type": "code",
   "execution_count": 24,
   "metadata": {},
   "outputs": [
    {
     "name": "stdout",
     "output_type": "stream",
     "text": [
      "enter the passwordMe@india1\n",
      "Password is valid\n"
     ]
    }
   ],
   "source": [
    "def password_check(passwd):      \n",
    "    SpecialSym =['$', '@', '#', '%'] \n",
    "    val = True\n",
    "    if len(passwd) < 8: \n",
    "        print('length should be at least 8') \n",
    "        val = False\n",
    "   \n",
    "        \n",
    "     #UC 6 Rule2 – Should have at least 1 Upper Case NOTE – All rules must be passed\n",
    "\n",
    "    if not any(char.isupper() for char in passwd): \n",
    "        print('Password should have at least one uppercase letter') \n",
    "        val = False\n",
    "        \n",
    "    #UC 7 Rule3 – Should have at least 1 numeric number in the password NOTE – All rules must be passed¶     \n",
    "    \n",
    "    if not any(char.isdigit() for char in passwd): \n",
    "        print('Password should have at least one numeral') \n",
    "        val = False\n",
    "        \n",
    "    if not any(char.islower() for char in passwd): \n",
    "        print('Password should have at least one lowercase letter') \n",
    "        val = False\n",
    "        \n",
    "    #UC 8 Rule4 – Has exactly 1 Special Character NOTE – All rules must be passed\n",
    "    \n",
    "    if not any(char in SpecialSym for char in passwd): \n",
    "        print('Password should have at least one of the symbols $@#') \n",
    "        val = False\n",
    "    if val: \n",
    "        return val \n",
    "    \n",
    "    # Main method \n",
    "def main(): \n",
    "    passwd = input(\"enter the password\")\n",
    "      \n",
    "    if (password_check(passwd)): \n",
    "        print(\"Password is valid\") \n",
    "    else: \n",
    "        print(\"Invalid Password !!\") \n",
    "          \n",
    "# Driver Code         \n",
    "if __name__ == '__main__': \n",
    "    main() "
   ]
  },
  {
   "cell_type": "code",
   "execution_count": null,
   "metadata": {},
   "outputs": [],
   "source": []
  },
  {
   "cell_type": "code",
   "execution_count": null,
   "metadata": {},
   "outputs": [],
   "source": []
  }
 ],
 "metadata": {
  "kernelspec": {
   "display_name": "Python 3",
   "language": "python",
   "name": "python3"
  },
  "language_info": {
   "codemirror_mode": {
    "name": "ipython",
    "version": 3
   },
   "file_extension": ".py",
   "mimetype": "text/x-python",
   "name": "python",
   "nbconvert_exporter": "python",
   "pygments_lexer": "ipython3",
   "version": "3.7.4"
  }
 },
 "nbformat": 4,
 "nbformat_minor": 2
}
