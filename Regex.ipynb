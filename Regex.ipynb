{
 "cells": [
  {
   "cell_type": "code",
   "execution_count": 6,
   "metadata": {},
   "outputs": [],
   "source": [
    "import re"
   ]
  },
  {
   "cell_type": "markdown",
   "metadata": {},
   "source": [
    "you can see that, search() method is able to find a pattern from any position of the string but it only returns the first occurrence of the search pattern."
   ]
  },
  {
   "cell_type": "code",
   "execution_count": 12,
   "metadata": {},
   "outputs": [
    {
     "name": "stdout",
     "output_type": "stream",
     "text": [
      "Analytics\n"
     ]
    }
   ],
   "source": [
    "#searching for pattern ‘Analytics’ will return a match\n",
    "try:\n",
    "    result = re.search(r'Analytics', 'AV Analytics Vidhya AV')\n",
    "    print(result.group(0))\n",
    "except:\n",
    "    print(\"none\")"
   ]
  },
  {
   "cell_type": "markdown",
   "metadata": {},
   "source": [
    "\n",
    "If we will use method findall to search ‘AV’ in given string it will return both occurrence of AV. While searching a string, I would recommend you to use re.findall() always, it can work like re.search() and re.match() both."
   ]
  },
  {
   "cell_type": "code",
   "execution_count": 13,
   "metadata": {},
   "outputs": [
    {
     "name": "stdout",
     "output_type": "stream",
     "text": [
      "['AV', 'AV']\n"
     ]
    }
   ],
   "source": [
    "try:\n",
    "    result = re.findall(r'AV', 'AV Regular expression AV')\n",
    "    print(result)\n",
    "except:\n",
    "    print(\"No Matches found\")"
   ]
  },
  {
   "cell_type": "code",
   "execution_count": 15,
   "metadata": {},
   "outputs": [
    {
     "name": "stdout",
     "output_type": "stream",
     "text": [
      "['Regul', 'r expression']\n"
     ]
    }
   ],
   "source": [
    "#It has performed all the splits that can be done by pattern \"a\"\n",
    "try:\n",
    "    result=re.split(r'a','Regular expression')\n",
    "    print(result)\n",
    "except:\n",
    "    print(\"No text found\")"
   ]
  },
  {
   "cell_type": "code",
   "execution_count": 16,
   "metadata": {},
   "outputs": [
    {
     "name": "stdout",
     "output_type": "stream",
     "text": [
      "['Analyt', 'cs Vidhya']\n"
     ]
    }
   ],
   "source": [
    "try:\n",
    "    result=re.split(r'i','Analytics Vidhya',maxsplit=1)\n",
    "    print(result)\n",
    "except:\n",
    "    print(\"syntax error\")"
   ]
  },
  {
   "cell_type": "markdown",
   "metadata": {},
   "source": [
    "# re.sub(pattern, repl, string):\n",
    "It helps to search a pattern and replace with a new sub string. If the pattern is not found, string is returned unchanged."
   ]
  },
  {
   "cell_type": "code",
   "execution_count": 17,
   "metadata": {},
   "outputs": [
    {
     "name": "stdout",
     "output_type": "stream",
     "text": [
      "AV is largest Analytics community of the World\n"
     ]
    }
   ],
   "source": [
    "try:\n",
    "    result=re.sub(r'India','the World','AV is largest Analytics community of India')\n",
    "    print(result)\n",
    "except:\n",
    "    print(\"syntax error\")\n"
   ]
  },
  {
   "cell_type": "markdown",
   "metadata": {},
   "source": [
    "# re.compile(pattern, repl, string):\n",
    "We can combine a regular expression pattern into pattern objects, which can be used for pattern matching. It also helps to search a pattern again without rewriting it."
   ]
  },
  {
   "cell_type": "code",
   "execution_count": 18,
   "metadata": {},
   "outputs": [
    {
     "name": "stdout",
     "output_type": "stream",
     "text": [
      "['country']\n",
      "[]\n"
     ]
    }
   ],
   "source": [
    "try:\n",
    "    pattern=re.compile('country')\n",
    "    result=pattern.findall('India is the largest democratic country')\n",
    "    print(result)\n",
    "    result2=pattern.findall('AV is largest analytics community of India')\n",
    "    print(result2)\n",
    "except:\n",
    "    print(\"syntax error\")"
   ]
  },
  {
   "cell_type": "code",
   "execution_count": null,
   "metadata": {},
   "outputs": [],
   "source": []
  }
 ],
 "metadata": {
  "kernelspec": {
   "display_name": "Python 3",
   "language": "python",
   "name": "python3"
  },
  "language_info": {
   "codemirror_mode": {
    "name": "ipython",
    "version": 3
   },
   "file_extension": ".py",
   "mimetype": "text/x-python",
   "name": "python",
   "nbconvert_exporter": "python",
   "pygments_lexer": "ipython3",
   "version": "3.7.4"
  }
 },
 "nbformat": 4,
 "nbformat_minor": 2
}
